{
  "nbformat": 4,
  "nbformat_minor": 0,
  "metadata": {
    "colab": {
      "provenance": []
    },
    "kernelspec": {
      "name": "python3",
      "display_name": "Python 3"
    },
    "language_info": {
      "name": "python"
    },
    "accelerator": "GPU",
    "gpuClass": "standard"
  },
  "cells": [
    {
      "cell_type": "markdown",
      "source": [
        "**Importing Libraries**"
      ],
      "metadata": {
        "id": "1lvDwP3AK6ch"
      }
    },
    {
      "cell_type": "code",
      "source": [
        "import tensorflow as tf\n",
        "from tensorflow import keras\n",
        "from keras import Sequential\n",
        "from keras.layers import Dense,Conv2D,MaxPooling2D,Flatten"
      ],
      "metadata": {
        "id": "HYXyOIDjQn-E"
      },
      "execution_count": 50,
      "outputs": []
    },
    {
      "cell_type": "markdown",
      "source": [
        "**Generators**\n",
        "\n",
        "*very useful to process large amount of Data\n",
        "It divides the data into batches*"
      ],
      "metadata": {
        "id": "f4sa9S7nL0W5"
      }
    },
    {
      "cell_type": "code",
      "source": [
        "train_ds = keras.utils.image_dataset_from_directory(\n",
        "    directory = '/content/Dogs_Cats_Classification_Tensorflow_1.14.0/cats_and_dogs_filtered/train',\n",
        "    labels = 'inferred',\n",
        "    label_mode = 'int',\n",
        "    batch_size = 32,\n",
        "    image_size = (256,256)\n",
        ")\n",
        "\n",
        "validation_ds = keras.utils.image_dataset_from_directory(\n",
        "    directory = '/content/Dogs_Cats_Classification_Tensorflow_1.14.0/cats_and_dogs_filtered/validation',\n",
        "    labels = 'inferred',\n",
        "    label_mode = 'int',\n",
        "    batch_size = 32,\n",
        "    image_size = (256,256)\n",
        ")\n",
        "\n",
        "\n"
      ],
      "metadata": {
        "colab": {
          "base_uri": "https://localhost:8080/",
          "height": 0
        },
        "id": "yr2HFcW6LPau",
        "outputId": "f4d27123-5d44-4056-dae6-2250c2782407"
      },
      "execution_count": 51,
      "outputs": [
        {
          "output_type": "stream",
          "name": "stdout",
          "text": [
            "Found 2000 files belonging to 2 classes.\n",
            "Found 1000 files belonging to 2 classes.\n"
          ]
        }
      ]
    },
    {
      "cell_type": "markdown",
      "source": [
        "**Normalization**"
      ],
      "metadata": {
        "id": "oJzoshqbM7yF"
      }
    },
    {
      "cell_type": "code",
      "source": [
        "def process(image,label):\n",
        "  image = tf.cast(image/255.,tf.float32)\n",
        "  return image,label\n",
        "\n",
        "train_ds = train_ds.map(process)\n",
        "validation_ds = validation_ds.map(process)\n",
        "\n",
        "## By this function all pixels values turn to 0 to 1"
      ],
      "metadata": {
        "id": "ycX0q9YmRTfr"
      },
      "execution_count": 52,
      "outputs": []
    },
    {
      "cell_type": "markdown",
      "source": [
        "**Creating CNN Model**"
      ],
      "metadata": {
        "id": "fGit5XP2NjT9"
      }
    },
    {
      "cell_type": "code",
      "source": [
        "model = Sequential()\n",
        "\n",
        "\n",
        "model.add(Conv2D(32,kernel_size=(3,3),padding='valid',activation='relu',input_shape=(256,256,3)))\n",
        "model.add(MaxPooling2D(pool_size=(2,2),strides=2,padding='valid'))\n",
        "\n",
        "model.add(Conv2D(64,kernel_size=(3,3),padding='valid',activation='relu'))\n",
        "model.add(MaxPooling2D(pool_size=(2,2),strides=2,padding='valid'))\n",
        "\n",
        "model.add(Conv2D(128,kernel_size=(3,3),padding='valid',activation='relu'))\n",
        "model.add(MaxPooling2D(pool_size=(2,2),strides=2,padding='valid'))\n",
        "\n",
        "model.add(Flatten())\n",
        "\n",
        "model.add(Dense(128,activation='relu'))\n",
        "model.add(Dense(64,activation='relu'))\n",
        "model.add(Dense(1,activation='sigmoid'))"
      ],
      "metadata": {
        "id": "VfN-WtaRNmlE"
      },
      "execution_count": 53,
      "outputs": []
    },
    {
      "cell_type": "code",
      "source": [
        "model.summary()"
      ],
      "metadata": {
        "colab": {
          "base_uri": "https://localhost:8080/",
          "height": 0
        },
        "id": "qP2y6wFmPGax",
        "outputId": "abac4744-8bb8-4574-f083-45541afdde53"
      },
      "execution_count": 54,
      "outputs": [
        {
          "output_type": "stream",
          "name": "stdout",
          "text": [
            "Model: \"sequential_2\"\n",
            "_________________________________________________________________\n",
            " Layer (type)                Output Shape              Param #   \n",
            "=================================================================\n",
            " conv2d_6 (Conv2D)           (None, 254, 254, 32)      896       \n",
            "                                                                 \n",
            " max_pooling2d_6 (MaxPooling  (None, 127, 127, 32)     0         \n",
            " 2D)                                                             \n",
            "                                                                 \n",
            " conv2d_7 (Conv2D)           (None, 125, 125, 64)      18496     \n",
            "                                                                 \n",
            " max_pooling2d_7 (MaxPooling  (None, 62, 62, 64)       0         \n",
            " 2D)                                                             \n",
            "                                                                 \n",
            " conv2d_8 (Conv2D)           (None, 60, 60, 128)       73856     \n",
            "                                                                 \n",
            " max_pooling2d_8 (MaxPooling  (None, 30, 30, 128)      0         \n",
            " 2D)                                                             \n",
            "                                                                 \n",
            " flatten_2 (Flatten)         (None, 115200)            0         \n",
            "                                                                 \n",
            " dense_6 (Dense)             (None, 128)               14745728  \n",
            "                                                                 \n",
            " dense_7 (Dense)             (None, 64)                8256      \n",
            "                                                                 \n",
            " dense_8 (Dense)             (None, 1)                 65        \n",
            "                                                                 \n",
            "=================================================================\n",
            "Total params: 14,847,297\n",
            "Trainable params: 14,847,297\n",
            "Non-trainable params: 0\n",
            "_________________________________________________________________\n"
          ]
        }
      ]
    },
    {
      "cell_type": "code",
      "source": [
        "model.compile(optimizer='adam',loss='binary_crossentropy',metrics=['accuracy'])"
      ],
      "metadata": {
        "id": "jmG1XALXPNZk"
      },
      "execution_count": 55,
      "outputs": []
    },
    {
      "cell_type": "code",
      "source": [
        "history = model.fit(train_ds,epochs=10,validation_data=validation_ds)"
      ],
      "metadata": {
        "colab": {
          "base_uri": "https://localhost:8080/",
          "height": 0
        },
        "id": "7pv_52Y0PaBH",
        "outputId": "8e2e082f-1886-43f5-d102-b51d66449a0b"
      },
      "execution_count": 56,
      "outputs": [
        {
          "output_type": "stream",
          "name": "stdout",
          "text": [
            "Epoch 1/10\n",
            "63/63 [==============================] - 9s 110ms/step - loss: 0.7122 - accuracy: 0.5170 - val_loss: 0.6789 - val_accuracy: 0.5030\n",
            "Epoch 2/10\n",
            "63/63 [==============================] - 6s 91ms/step - loss: 0.6613 - accuracy: 0.5930 - val_loss: 0.6838 - val_accuracy: 0.5380\n",
            "Epoch 3/10\n",
            "63/63 [==============================] - 7s 105ms/step - loss: 0.5909 - accuracy: 0.6880 - val_loss: 0.6237 - val_accuracy: 0.6540\n",
            "Epoch 4/10\n",
            "63/63 [==============================] - 6s 92ms/step - loss: 0.5423 - accuracy: 0.7230 - val_loss: 0.6146 - val_accuracy: 0.6770\n",
            "Epoch 5/10\n",
            "63/63 [==============================] - 7s 107ms/step - loss: 0.4515 - accuracy: 0.7845 - val_loss: 0.6761 - val_accuracy: 0.6660\n",
            "Epoch 6/10\n",
            "63/63 [==============================] - 7s 102ms/step - loss: 0.3773 - accuracy: 0.8265 - val_loss: 0.7553 - val_accuracy: 0.6710\n",
            "Epoch 7/10\n",
            "63/63 [==============================] - 7s 105ms/step - loss: 0.2278 - accuracy: 0.9095 - val_loss: 1.2977 - val_accuracy: 0.6540\n",
            "Epoch 8/10\n",
            "63/63 [==============================] - 6s 90ms/step - loss: 0.1915 - accuracy: 0.9210 - val_loss: 1.3403 - val_accuracy: 0.6800\n",
            "Epoch 9/10\n",
            "63/63 [==============================] - 6s 91ms/step - loss: 0.0900 - accuracy: 0.9690 - val_loss: 1.6725 - val_accuracy: 0.6330\n",
            "Epoch 10/10\n",
            "63/63 [==============================] - 7s 100ms/step - loss: 0.1205 - accuracy: 0.9650 - val_loss: 1.5371 - val_accuracy: 0.6590\n"
          ]
        }
      ]
    },
    {
      "cell_type": "code",
      "source": [
        "import matplotlib.pyplot as plt\n",
        "\n",
        "plt.plot(history.history['accuracy'],color='red',label='train')\n",
        "plt.plot(history.history['val_accuracy'],color='blue',label='validation')\n",
        "plt.legend()\n",
        "plt.show()"
      ],
      "metadata": {
        "colab": {
          "base_uri": "https://localhost:8080/",
          "height": 265
        },
        "id": "SCY0RN_4QRon",
        "outputId": "f4479ce8-6455-43fa-afa4-886a66c6663b"
      },
      "execution_count": 57,
      "outputs": [
        {
          "output_type": "display_data",
          "data": {
            "text/plain": [
              "<Figure size 432x288 with 1 Axes>"
            ],
            "image/png": "[encoded data removed]"
          },
          "metadata": {
            "needs_background": "light"
          }
        }
      ]
    },
    {
      "cell_type": "code",
      "source": [
        "## Here we can see that if epoch is increaing then accuracy  is improving but the validation accuracy is\n",
        "## fluctuating around 70 to 80 percent and we can also see the gap between two which depicts overfitting"
      ],
      "metadata": {
        "id": "nTmXP9PsQ9PI"
      },
      "execution_count": 58,
      "outputs": []
    },
    {
      "cell_type": "code",
      "source": [
        "plt.plot(history.history['loss'],color='red',label='train')\n",
        "plt.plot(history.history['val_loss'],color='blue',label='validation')\n",
        "plt.legend()\n",
        "plt.show()"
      ],
      "metadata": {
        "colab": {
          "base_uri": "https://localhost:8080/",
          "height": 265
        },
        "id": "fHv9DDgTQy2-",
        "outputId": "768c73cc-70fb-4fb7-db0e-6f5714c3450a"
      },
      "execution_count": 59,
      "outputs": [
        {
          "output_type": "display_data",
          "data": {
            "text/plain": [
              "<Figure size 432x288 with 1 Axes>"
            ],
            "image/png": "[encoded data removed]"
          },
          "metadata": {
            "needs_background": "light"
          }
        }
      ]
    },
    {
      "cell_type": "code",
      "source": [
        "## Here we can see that if epoch is increaing then training loss  isdecreaing but the validation loss is\n",
        "## increaing , we can also see the gap between two which depicts overfitting"
      ],
      "metadata": {
        "id": "D1DYzxB6Q60b"
      },
      "execution_count": 60,
      "outputs": []
    },
    {
      "cell_type": "markdown",
      "source": [
        "We conclude that here Overfitting Occurs which says model works well on training data but fails to give good result on test data"
      ],
      "metadata": {
        "id": "8CeYD0O8RlEv"
      }
    },
    {
      "cell_type": "markdown",
      "source": [
        "**Ways to reduce Overfitting**\n",
        "\n",
        "*Add more Data*\n",
        "\n",
        "*Data Augmentation*\n",
        "\n",
        "*L1/L2 Regularization*\n",
        "\n",
        "*Dropout*\n",
        "\n",
        "*Batch Norm*\n",
        "\n",
        "*Reduce Complexity*\n",
        "\n",
        "\n"
      ],
      "metadata": {
        "id": "Eg_-NaQ0Rx3a"
      }
    },
    {
      "cell_type": "markdown",
      "source": [
        "**Applying Batch Normalization and Dropout**"
      ],
      "metadata": {
        "id": "mEYRWXfNSsoD"
      }
    },
    {
      "cell_type": "code",
      "source": [
        "\n",
        "from keras.layers import BatchNormalization,Dropout"
      ],
      "metadata": {
        "id": "IJmrBAljSOdk"
      },
      "execution_count": 61,
      "outputs": []
    },
    {
      "cell_type": "code",
      "source": [
        "model = Sequential()\n",
        "\n",
        "\n",
        "model.add(Conv2D(32,kernel_size=(3,3),padding='valid',activation='relu',input_shape=(256,256,3)))\n",
        "model.add(BatchNormalization())\n",
        "model.add(MaxPooling2D(pool_size=(2,2),strides=2,padding='valid'))\n",
        "\n",
        "model.add(Conv2D(64,kernel_size=(3,3),padding='valid',activation='relu'))\n",
        "model.add(BatchNormalization())\n",
        "model.add(MaxPooling2D(pool_size=(2,2),strides=2,padding='valid'))\n",
        "\n",
        "model.add(Conv2D(128,kernel_size=(3,3),padding='valid',activation='relu'))\n",
        "model.add(BatchNormalization())\n",
        "model.add(MaxPooling2D(pool_size=(2,2),strides=2,padding='valid'))\n",
        "\n",
        "model.add(Flatten())\n",
        "\n",
        "model.add(Dense(128,activation='relu'))\n",
        "model.add(Dropout(0.1))\n",
        "model.add(Dense(64,activation='relu'))\n",
        "model.add(Dropout(0.1))\n",
        "model.add(Dense(1,activation='sigmoid'))"
      ],
      "metadata": {
        "id": "g82iMvZcS_Av"
      },
      "execution_count": 62,
      "outputs": []
    },
    {
      "cell_type": "code",
      "source": [
        "model.summary"
      ],
      "metadata": {
        "colab": {
          "base_uri": "https://localhost:8080/",
          "height": 0
        },
        "id": "6RiHpneCTgRy",
        "outputId": "72604774-bb1a-4517-dea9-063b028cecb4"
      },
      "execution_count": 63,
      "outputs": [
        {
          "output_type": "execute_result",
          "data": {
            "text/plain": [
              "<bound method Model.summary of <keras.engine.sequential.Sequential object at 0x7f7a8c3f6d30>>"
            ]
          },
          "metadata": {},
          "execution_count": 63
        }
      ]
    },
    {
      "cell_type": "code",
      "source": [
        "model.compile(optimizer='adam',loss='binary_crossentropy',metrics=['accuracy'])"
      ],
      "metadata": {
        "id": "OHtHEDK2Trqf"
      },
      "execution_count": 64,
      "outputs": []
    },
    {
      "cell_type": "code",
      "source": [
        "history = model.fit(train_ds,epochs=10,validation_data=validation_ds)"
      ],
      "metadata": {
        "colab": {
          "base_uri": "https://localhost:8080/",
          "height": 0
        },
        "id": "ldUtcRzBTxBR",
        "outputId": "4df3b9ca-bf73-4041-f02f-4a73433c7a47"
      },
      "execution_count": 65,
      "outputs": [
        {
          "output_type": "stream",
          "name": "stdout",
          "text": [
            "Epoch 1/10\n",
            "63/63 [==============================] - 11s 123ms/step - loss: 5.5412 - accuracy: 0.5630 - val_loss: 8.3642 - val_accuracy: 0.5000\n",
            "Epoch 2/10\n",
            "63/63 [==============================] - 8s 130ms/step - loss: 2.3332 - accuracy: 0.5885 - val_loss: 12.9076 - val_accuracy: 0.5000\n",
            "Epoch 3/10\n",
            "63/63 [==============================] - 8s 116ms/step - loss: 1.4321 - accuracy: 0.5795 - val_loss: 3.3176 - val_accuracy: 0.4960\n",
            "Epoch 4/10\n",
            "63/63 [==============================] - 9s 131ms/step - loss: 0.9124 - accuracy: 0.5880 - val_loss: 1.4663 - val_accuracy: 0.5140\n",
            "Epoch 5/10\n",
            "63/63 [==============================] - 9s 130ms/step - loss: 0.7508 - accuracy: 0.6135 - val_loss: 0.9596 - val_accuracy: 0.5400\n",
            "Epoch 6/10\n",
            "63/63 [==============================] - 9s 135ms/step - loss: 0.5998 - accuracy: 0.6970 - val_loss: 1.2830 - val_accuracy: 0.5910\n",
            "Epoch 7/10\n",
            "63/63 [==============================] - 8s 126ms/step - loss: 0.5904 - accuracy: 0.6900 - val_loss: 0.6991 - val_accuracy: 0.6400\n",
            "Epoch 8/10\n",
            "63/63 [==============================] - 8s 115ms/step - loss: 0.5409 - accuracy: 0.7200 - val_loss: 0.9160 - val_accuracy: 0.6290\n",
            "Epoch 9/10\n",
            "63/63 [==============================] - 9s 130ms/step - loss: 0.4996 - accuracy: 0.7445 - val_loss: 0.9060 - val_accuracy: 0.6490\n",
            "Epoch 10/10\n",
            "63/63 [==============================] - 8s 120ms/step - loss: 0.4547 - accuracy: 0.7690 - val_loss: 0.6205 - val_accuracy: 0.6570\n"
          ]
        }
      ]
    },
    {
      "cell_type": "code",
      "source": [
        "import matplotlib.pyplot as plt\n",
        "\n",
        "plt.plot(history.history['accuracy'],color='red',label='train')\n",
        "plt.plot(history.history['val_accuracy'],color='blue',label='validation')\n",
        "plt.legend()\n",
        "plt.show()"
      ],
      "metadata": {
        "colab": {
          "base_uri": "https://localhost:8080/",
          "height": 265
        },
        "id": "1Ps4nrFOUP17",
        "outputId": "399c93d7-8e42-4bbe-a0fe-8054bb03ce6f"
      },
      "execution_count": 66,
      "outputs": [
        {
          "output_type": "display_data",
          "data": {
            "text/plain": [
              "<Figure size 432x288 with 1 Axes>"
            ],
            "image/png": "[encoded data removed]"
          },
          "metadata": {
            "needs_background": "light"
          }
        }
      ]
    },
    {
      "cell_type": "code",
      "source": [
        "plt.plot(history.history['loss'],color='red',label='train')\n",
        "plt.plot(history.history['val_loss'],color='blue',label='validation')\n",
        "plt.legend()\n",
        "plt.show()"
      ],
      "metadata": {
        "colab": {
          "base_uri": "https://localhost:8080/",
          "height": 265
        },
        "id": "HDhhld4sUV-2",
        "outputId": "a8ba248a-3637-4aff-9c76-d9a20c86e70a"
      },
      "execution_count": 67,
      "outputs": [
        {
          "output_type": "display_data",
          "data": {
            "text/plain": [
              "<Figure size 432x288 with 1 Axes>"
            ],
            "image/png": "[encoded data removed]"
          },
          "metadata": {
            "needs_background": "light"
          }
        }
      ]
    },
    {
      "cell_type": "markdown",
      "source": [
        "**Conclusion**\n",
        "\n",
        "*After Applying Batch Norm , Dropout We can see that the gap of the graph between train and validation data is reduced which means overfitting is reduced* "
      ],
      "metadata": {
        "id": "AJCt-HhWUYz4"
      }
    }
  ]
}